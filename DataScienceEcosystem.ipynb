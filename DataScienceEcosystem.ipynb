{
 "cells": [
  {
   "cell_type": "markdown",
   "id": "7711d855-2246-4345-9c72-68f1e1fbf693",
   "metadata": {},
   "source": [
    "# Data Science Tools and Ecosystem"
   ]
  },
  {
   "cell_type": "markdown",
   "id": "576a96da-687b-4fba-a5a7-ec6f162f8808",
   "metadata": {
    "tags": []
   },
   "source": [
    "In this notebook, Data Science Tools and Ecosystem are summarized."
   ]
  },
  {
   "cell_type": "markdown",
   "id": "63d9d7c1-9163-4eb1-9d4b-3e21ed468861",
   "metadata": {},
   "source": [
    "<b>OBJECTIVES:</b>\n",
    "\n",
    "- Learn how to Create a Jupyter notebook\n",
    "- Insert code and markdown cells\n",
    "- List popular languages for Data Science"
   ]
  },
  {
   "cell_type": "markdown",
   "id": "46737e07-7d7b-48cf-8094-e926d9b26eca",
   "metadata": {},
   "source": [
    "Some of the popular languages that Data Scientists use are:\n",
    "\n",
    "1. Python\n",
    "2. R\n",
    "3. SQL\n",
    "4. JavaScript\n",
    "5. Java"
   ]
  },
  {
   "cell_type": "markdown",
   "id": "f18bd7ef-c820-48d3-b19e-609f359c570f",
   "metadata": {},
   "source": [
    "Some of the commonly used used libraries used by Data Scientists include:\n",
    "\n",
    "1. Pandas\n",
    "2. NumPy\n",
    "3. Matplotlib\n",
    "4. ggplot\n",
    "5. SciPy"
   ]
  },
  {
   "cell_type": "markdown",
   "id": "013b8630-9315-4e58-84a0-e953e8b1583d",
   "metadata": {},
   "source": [
    "|Data Science Tools|\n",
    "|:----------------:|\n",
    "| Jupyter Notebook |\n",
    "|   Apache Spark   |\n",
    "|    RapidMiner    |"
   ]
  },
  {
   "cell_type": "markdown",
   "id": "ede6d725-a7b4-44a4-bd98-bd2b511a6cc4",
   "metadata": {},
   "source": [
    "<h3>Below are a few examples of evaluating arithmetic expressions in Python.</h3>"
   ]
  },
  {
   "cell_type": "code",
   "execution_count": 1,
   "id": "87bda193-39ad-4fe6-a557-788d89204845",
   "metadata": {
    "tags": []
   },
   "outputs": [
    {
     "data": {
      "text/plain": [
       "17"
      ]
     },
     "execution_count": 1,
     "metadata": {},
     "output_type": "execute_result"
    }
   ],
   "source": [
    "# This is a simple expression to multiply then add integers.\n",
    "(3*4)+5"
   ]
  },
  {
   "cell_type": "code",
   "execution_count": 3,
   "id": "825a063f-1def-4d27-954a-b572af18c7f8",
   "metadata": {
    "tags": []
   },
   "outputs": [
    {
     "data": {
      "text/plain": [
       "3"
      ]
     },
     "execution_count": 3,
     "metadata": {},
     "output_type": "execute_result"
    }
   ],
   "source": [
    "# This will convert 200 minutes to hours by dividing by 60.\n",
    "200//60"
   ]
  },
  {
   "cell_type": "markdown",
   "id": "59a87e4d-38c6-402b-9a66-689d6a3694d5",
   "metadata": {},
   "source": [
    "## Author\n",
    "Anthony Nguyen"
   ]
  }
 ],
 "metadata": {
  "kernelspec": {
   "display_name": "Python",
   "language": "python",
   "name": "conda-env-python-py"
  },
  "language_info": {
   "codemirror_mode": {
    "name": "ipython",
    "version": 3
   },
   "file_extension": ".py",
   "mimetype": "text/x-python",
   "name": "python",
   "nbconvert_exporter": "python",
   "pygments_lexer": "ipython3",
   "version": "3.7.12"
  }
 },
 "nbformat": 4,
 "nbformat_minor": 5
}
